{
  "cells": [
    {
      "cell_type": "code",
      "execution_count": null,
      "metadata": {
        "colab": {
          "base_uri": "https://localhost:8080/"
        },
        "id": "zFCXz209Ye3F",
        "outputId": "e14a5582-ec3e-4edf-9098-d29d24bc93a9"
      },
      "outputs": [
        {
          "output_type": "stream",
          "name": "stdout",
          "text": [
            "Downloading http://yann.lecun.com/exdb/mnist/train-images-idx3-ubyte.gz\n",
            "Downloading http://yann.lecun.com/exdb/mnist/train-images-idx3-ubyte.gz to ./MNIST/raw/train-images-idx3-ubyte.gz\n"
          ]
        },
        {
          "output_type": "stream",
          "name": "stderr",
          "text": [
            "100%|██████████| 9912422/9912422 [00:00<00:00, 19752611.38it/s]\n"
          ]
        },
        {
          "output_type": "stream",
          "name": "stdout",
          "text": [
            "Extracting ./MNIST/raw/train-images-idx3-ubyte.gz to ./MNIST/raw\n",
            "\n",
            "Downloading http://yann.lecun.com/exdb/mnist/train-labels-idx1-ubyte.gz\n",
            "Downloading http://yann.lecun.com/exdb/mnist/train-labels-idx1-ubyte.gz to ./MNIST/raw/train-labels-idx1-ubyte.gz\n"
          ]
        },
        {
          "output_type": "stream",
          "name": "stderr",
          "text": [
            "100%|██████████| 28881/28881 [00:00<00:00, 89465061.91it/s]\n"
          ]
        },
        {
          "output_type": "stream",
          "name": "stdout",
          "text": [
            "Extracting ./MNIST/raw/train-labels-idx1-ubyte.gz to ./MNIST/raw\n",
            "\n",
            "Downloading http://yann.lecun.com/exdb/mnist/t10k-images-idx3-ubyte.gz\n",
            "Downloading http://yann.lecun.com/exdb/mnist/t10k-images-idx3-ubyte.gz to ./MNIST/raw/t10k-images-idx3-ubyte.gz\n"
          ]
        },
        {
          "output_type": "stream",
          "name": "stderr",
          "text": [
            "100%|██████████| 1648877/1648877 [00:00<00:00, 25570469.26it/s]\n"
          ]
        },
        {
          "output_type": "stream",
          "name": "stdout",
          "text": [
            "Extracting ./MNIST/raw/t10k-images-idx3-ubyte.gz to ./MNIST/raw\n",
            "\n",
            "Downloading http://yann.lecun.com/exdb/mnist/t10k-labels-idx1-ubyte.gz\n",
            "Downloading http://yann.lecun.com/exdb/mnist/t10k-labels-idx1-ubyte.gz to ./MNIST/raw/t10k-labels-idx1-ubyte.gz\n"
          ]
        },
        {
          "output_type": "stream",
          "name": "stderr",
          "text": [
            "100%|██████████| 4542/4542 [00:00<00:00, 9274843.61it/s]\n"
          ]
        },
        {
          "output_type": "stream",
          "name": "stdout",
          "text": [
            "Extracting ./MNIST/raw/t10k-labels-idx1-ubyte.gz to ./MNIST/raw\n",
            "\n",
            "Num. training samples: 60000\n",
            "Num. test samples:     10000\n",
            "torch.Size([60000, 28, 28])\n",
            "torch.Size([60000])\n",
            "tensor([ 3,  8,  0,  ...,  1, 10,  8])\n",
            "tensor([ 0,  1,  2,  3,  4,  5,  6,  7,  8,  9, 10])\n",
            "tensor([5400, 5400, 5400, 5400, 5400, 5400, 5400, 5400, 5400, 5400, 5400])\n"
          ]
        }
      ],
      "source": [
        "import torch.nn.functional as F\n",
        "import torch\n",
        "import torchvision\n",
        "from matplotlib import pyplot as plt\n",
        "import os\n",
        "import torch\n",
        "import random\n",
        "from scipy import ndimage\n",
        "from torchvision import utils\n",
        "import matplotlib.pyplot as plt\n",
        "import numpy as np\n",
        "%matplotlib inline\n",
        "from torchvision import transforms\n",
        "import torch.nn as nn\n",
        "\n",
        "\n",
        "root_dir = './'\n",
        "torchvision.datasets.MNIST(root=root_dir,download=True)\n",
        "\n",
        "# Load MNIST dataset\n",
        "train_set = torchvision.datasets.MNIST(root=root_dir, download=True, train=True)\n",
        "test_set = torchvision.datasets.MNIST(root=root_dir, download=True, train=False)\n",
        "\n",
        "# Dataset len\n",
        "num_train = len(train_set)\n",
        "num_test = len(test_set)\n",
        "print(f\"Num. training samples: {num_train}\")\n",
        "print(f\"Num. test samples:     {num_test}\")\n",
        "\n",
        "# extract data and targets\n",
        "x_train, y_train=train_set.data,train_set.targets\n",
        "print(x_train.shape)\n",
        "print(y_train.shape)\n",
        "\n",
        "Non_num_types = 11\n",
        "nr_ex = 5400*Non_num_types\n",
        "\n",
        "vettore = torch.arange(nr_ex) % Non_num_types\n",
        "vettore_mischiato = vettore[torch.randperm(len(vettore))]\n",
        "print(vettore_mischiato)\n",
        "\n",
        "nums, count = torch.unique(vettore_mischiato, return_counts=True)\n",
        "print(nums)\n",
        "print(count)\n",
        "\n",
        "idxs_digits_trainSet=[]\n",
        "for digit in range(10):\n",
        "  y = y_train==digit\n",
        "  idxs_digits_trainSet.append(torch.where(y == 1)[0])"
      ]
    },
    {
      "cell_type": "code",
      "source": [
        "mask = torch.unsqueeze(mask,1)\n",
        "mask_int = F.interpolate(mask, size=(32, 32), mode='bilinear') "
      ],
      "metadata": {
        "id": "QaDeQgqEPC6y"
      },
      "execution_count": null,
      "outputs": []
    },
    {
      "cell_type": "code",
      "source": [
        "from google.colab import drive\n",
        "drive.mount('/content/drive')\n",
        "n=59399\n",
        "\n",
        "folder = '/content/drive/MyDrive/Train_VGG_NonNum/train_set_VGG_'+str(n)+'.pt'\n",
        "folder_lbl = '/content/drive/MyDrive/Train_VGG_NonNum/type_train_set_VGG_'+str(n)+'.pt'\n",
        "mask = torch.load(folder)\n",
        "lbls = torch.load(folder_lbl)"
      ],
      "metadata": {
        "id": "ow2cdVU2nLVc",
        "colab": {
          "base_uri": "https://localhost:8080/"
        },
        "outputId": "6e40668e-299e-4829-dbd2-152d8ec79c61"
      },
      "execution_count": null,
      "outputs": [
        {
          "output_type": "stream",
          "name": "stdout",
          "text": [
            "Mounted at /content/drive\n"
          ]
        }
      ]
    },
    {
      "cell_type": "code",
      "source": [
        "from google.colab import drive\n",
        "drive.mount('/content/drive')\n",
        "n=75600\n",
        "\n",
        "folder = '/content/drive/MyDrive/Train_VGG_NonNum/train_set_VGG_'+str(n)+'.pt'\n",
        "folder_lbl = '/content/drive/MyDrive/Train_VGG_NonNum/type_train_set_VGG_'+str(n)+'.pt'\n",
        "mask = torch.load(folder)\n",
        "lbls = torch.load(folder_lbl)\n",
        "\n",
        "mask_int = F.interpolate(mask, size=(32, 32), mode='bilinear') \n",
        "\n",
        "n_per_cat = 2700\n",
        "nums, count = torch.unique(lbls, return_counts=True)\n",
        "\n",
        "\n",
        "# Inizializza un tensore vuoto per contenere i campioni bilanciati\n",
        "balanced_lbls = torch.zeros_like(lbls, dtype=torch.long)\n",
        "\n",
        "# per ogni categoria, seleziona casualmente 50 indici di elementi che appartengono a quella categoria\n",
        "for i in nums:\n",
        "      if i>3 or i==2:\n",
        "      # indices = torch.where(lbls == i)[0]\n",
        "      # selected_idxs = indices[:n_per_cat]\n",
        "\n",
        "      # balanced_lbls[selected_idxs]= 1\n",
        "\n",
        "        balanced_lbls[torch.where(lbls == i)[0]]=1\n",
        "#check\n",
        "nums, count = torch.unique(lbls[balanced_lbls==1], return_counts=True)\n",
        "print(nums)\n",
        "print(count)   \n",
        "\n",
        "lbls= lbls[balanced_lbls==1]\n",
        "mask_int = mask_int[balanced_lbls==1,:,:]\n",
        "nr_ex = sum(balanced_lbls)"
      ],
      "metadata": {
        "id": "XzNyeX9JcZLo"
      },
      "execution_count": null,
      "outputs": []
    },
    {
      "cell_type": "code",
      "execution_count": null,
      "metadata": {
        "colab": {
          "base_uri": "https://localhost:8080/"
        },
        "id": "9cyPOUjk0CXL",
        "outputId": "f805f47a-5865-48e0-f8ae-a7899dca76bf"
      },
      "outputs": [
        {
          "output_type": "stream",
          "name": "stdout",
          "text": [
            "Drive already mounted at /content/drive; to attempt to forcibly remount, call drive.mount(\"/content/drive\", force_remount=True).\n",
            "generated non-numbers: 0\n",
            "generated non-numbers: 5400\n",
            "generated non-numbers: 10800\n",
            "generated non-numbers: 16200\n",
            "generated non-numbers: 21600\n",
            "generated non-numbers: 27000\n",
            "generated non-numbers: 32400\n",
            "generated non-numbers: 37800\n",
            "generated non-numbers: 43200\n",
            "generated non-numbers: 48600\n",
            "generated non-numbers: 54000\n",
            "generated non-numbers: 59399\n"
          ]
        }
      ],
      "source": [
        "from google.colab import drive\n",
        "drive.mount('/content/drive')\n",
        "load = False\n",
        "\n",
        "def adjacency_list(image, coord):\n",
        "    \"\"\"\n",
        "    Returns the adjacency list of a pixel in an image considering its 8 neighbors.\n",
        "    \"\"\"\n",
        "    row = coord[0]\n",
        "    col = coord[1]\n",
        "    # initialize the adjacency list\n",
        "    adjacency = []\n",
        "\n",
        "    # loop over the 8 neighboring pixels\n",
        "    for i in range(-1, 2):\n",
        "        for j in range(-1, 2):\n",
        "            # skip the current pixel\n",
        "            if i == 0 and j == 0:\n",
        "                continue\n",
        "            # compute the row and column indices of the neighboring pixel\n",
        "            r = row + i\n",
        "            c = col + j\n",
        "            # check if the neighboring pixel is within the bounds of the image\n",
        "            if r >= 0 and r < image.shape[0] and c >= 0 and c < image.shape[1]:\n",
        "                # add the neighboring pixel to the adjacency list\n",
        "                adjacency.append((r, c))\n",
        "\n",
        "    adj_actives=[]\n",
        "    for el in adjacency:\n",
        "      if image[el[0], el[1]]>0.3:\n",
        "        adj_actives.append(el)\n",
        "\n",
        "    return adj_actives\n",
        "\n",
        "\n",
        "\n",
        "\n",
        "# def adjacency_list(image, coord):\n",
        "#     \"\"\"\n",
        "#     Returns the adjacency list of a pixel in an image considering its 8 neighbors.\n",
        "#     \"\"\"\n",
        "#     row = coord[0]\n",
        "#     col = coord[1]\n",
        "\n",
        "#     # Generate all the row and column indices of the neighboring pixels\n",
        "#     indices = np.array(np.meshgrid(np.arange(row-1, row+2), np.arange(col-1, col+2))).T.reshape(-1, 2)\n",
        "#     rows, cols = slice(row-1, row+2), slice(col-1, col+2)\n",
        "    \n",
        "\n",
        "#     # Filter out the neighboring pixels with intensity below the threshold\n",
        "#     mask = image[rows, cols] > .3\n",
        "#     return indices[mask.ravel()].tolist()\n",
        "\n",
        "def occlusion_expand(adj_actives, occlusion_idxs, explored_adj_to_expand, n_to_occlude=3):\n",
        "  c=0\n",
        "  while c<n_to_occlude:\n",
        "    # Select a random element\n",
        "    random_element = random.choice(adj_actives)\n",
        "    occlusion_idxs.append(random_element)\n",
        "    # Remove the element from the list\n",
        "    adj_actives.remove(random_element)\n",
        "    explored_adj_to_expand.append(random_element)\n",
        "    c+=1\n",
        "\n",
        "def explore_frontier(adj_actives,explored_adj_to_expand,occlusion_idxs):\n",
        "    for idx in explored_adj_to_expand:\n",
        "      for i in occlusion_idxs:\n",
        "        image[i[0],i[1]]=0\n",
        "      adj_actives.extend(adjacency_list(image, idx))\n",
        "      explored_adj_to_expand.remove(idx)\n",
        "\n",
        "\n",
        "\n",
        "x_train_bin = x_train>0\n",
        "x_train_bin = x_train_bin.double()\n",
        "\n",
        "\n",
        "nr_act_pixels = torch.zeros(x_train_bin.size()[0])\n",
        "for ex in range(x_train_bin.size()[0]):\n",
        "  nr_act_pixels[ex]=(torch.sum(x_train_bin[ex,:,:])/784)\n",
        "\n",
        "\n",
        "if load ==True:\n",
        "  begin = 43200\n",
        "  folder = '/content/drive/MyDrive/Train_VGG_NonNum/train_set_VGG_'+str(begin)+'.pt'\n",
        "  folder_lbl = '/content/drive/MyDrive/Train_VGG_NonNum/type_train_set_VGG_'+str(begin)+'.pt'\n",
        "  mask = torch.load(folder)\n",
        "  lbls = torch.load(folder_lbl)\n",
        "else:\n",
        "  mask = torch.rand(nr_ex ,28, 28)  # uniformly distributed between 0 and 1\n",
        "  begin=0\n",
        "  lbls = torch.zeros(nr_ex)+100\n",
        "\n",
        "\n",
        "for it in range(begin, nr_ex):\n",
        "\n",
        "  if it%5400==0 or it==nr_ex-1:\n",
        "    print('generated non-numbers: '+str(it))\n",
        "    folder = '/content/drive/MyDrive/Train_VGG_NonNum/train_set_VGG_'+str(it)+'.pt'\n",
        "    folder_lbl = '/content/drive/MyDrive/Train_VGG_NonNum/type_train_set_VGG_'+str(it)+'.pt'\n",
        "    torch.save(mask, folder)\n",
        "    torch.save(lbls, folder_lbl)\n",
        "  up_or_low = vettore_mischiato[it]\n",
        "\n",
        "  if up_or_low==10:\n",
        "    lbls[it] = up_or_low\n",
        "    r_idx = random.randint(0, 60000-1)\n",
        "    img = x_train.data[r_idx].clone()\n",
        "    #scrambling\n",
        "\n",
        "    idx = torch.randperm(img.nelement())\n",
        "    mask[it,:,:] = img.view(-1)[idx].view(img.size())\n",
        "    \n",
        "  else:\n",
        "\n",
        "    lbls[it] = up_or_low\n",
        "    r_idx = torch.randint(low=0, high=idxs_digits_trainSet[up_or_low].numel(), size=(1,))    \n",
        "    image = x_train.data[idxs_digits_trainSet[up_or_low][r_idx[0]]].clone()  \n",
        "\n",
        "    # find the indices of all pixels that are greater than 0.3\n",
        "    indices = torch.nonzero(image > 0.3)\n",
        "\n",
        "    sel_idx = indices[random.randint(0,len(indices)-1)]\n",
        "    # #print('seed: ',sel_idx)\n",
        "    adj_actives = adjacency_list(image, sel_idx)\n",
        "\n",
        "    occlusion_idxs = [sel_idx]\n",
        "    explored_adj_to_expand = []\n",
        "\n",
        "\n",
        "    for i in range(random.randint(10,20)):\n",
        "      n_to_occlude = int(len(adj_actives)/3)\n",
        "      occlusion_expand(adj_actives, occlusion_idxs, explored_adj_to_expand, n_to_occlude=n_to_occlude)\n",
        "      #print('expl_PRE'+str(i)+':',explored_adj_to_expand)  \n",
        "      explore_frontier(adj_actives,explored_adj_to_expand, occlusion_idxs)\n",
        "\n",
        "      # print('adj'+str(i)+':',adj_actives)\n",
        "      # print('occl'+str(i)+':',occlusion_idxs)\n",
        "      # print('expl'+str(i)+':',explored_adj_to_expand)  \n",
        "\n",
        "    for idx in occlusion_idxs:\n",
        "      image[idx[0],idx[1]]=0\n",
        "\n",
        "    mask[it,:,:] = image\n",
        "\n",
        "\n",
        "\n",
        "mask = torch.unsqueeze(mask,1)\n",
        "mask_int = F.interpolate(mask, size=(32, 32), mode='bilinear') \n",
        "\n",
        "i = random.randint(0,12000)\n",
        "#print(i)\n",
        "#plt.imshow( mask_int[i,0,:,:] , cmap = 'gray')   "
      ]
    },
    {
      "cell_type": "code",
      "source": [
        "folder = '/content/drive/MyDrive/Train_VGG_NonNum/train_set_VGG_'+str(75600)+'.pt'\n",
        "folder_lbl = '/content/drive/MyDrive/Train_VGG_NonNum/type_train_set_VGG_'+str(75600)+'.pt'\n",
        "torch.save(mask, folder)\n",
        "torch.save(lbls, folder_lbl)"
      ],
      "metadata": {
        "id": "DPH1_0yaLnBb"
      },
      "execution_count": null,
      "outputs": []
    },
    {
      "cell_type": "code",
      "execution_count": null,
      "metadata": {
        "id": "ErN-vnAk-50M"
      },
      "outputs": [],
      "source": [
        "folder = '/content/drive/MyDrive/Train_VGG_NonNum/train_set_VGG_'+str(21600)+'.pt'\n",
        "folder_lbl = '/content/drive/MyDrive/Train_VGG_NonNum/type_train_set_VGG_'+str(21600)+'.pt'\n",
        "mask_int = torch.load(folder)\n",
        "lbls = torch.load(folder_lbl)"
      ]
    },
    {
      "cell_type": "code",
      "execution_count": null,
      "metadata": {
        "id": "A5RYmnH86oqd"
      },
      "outputs": [],
      "source": [
        "torch.load(mask_int, \"train_set_VGG.pt\")"
      ]
    },
    {
      "cell_type": "code",
      "source": [
        "torch.sum(lbls==46)"
      ],
      "metadata": {
        "colab": {
          "base_uri": "https://localhost:8080/"
        },
        "id": "1rJG64KaMmDt",
        "outputId": "37cd3b53-9bef-484d-b962-7c4e3475bc62"
      },
      "execution_count": null,
      "outputs": [
        {
          "output_type": "execute_result",
          "data": {
            "text/plain": [
              "tensor(5426)"
            ]
          },
          "metadata": {},
          "execution_count": 24
        }
      ]
    },
    {
      "cell_type": "code",
      "execution_count": null,
      "metadata": {
        "colab": {
          "base_uri": "https://localhost:8080/",
          "height": 465
        },
        "id": "23Ei6RMEyQo_",
        "outputId": "ae511ed3-3ac1-4518-ec14-628ec9802868"
      },
      "outputs": [
        {
          "output_type": "stream",
          "name": "stdout",
          "text": [
            "tensor(9.)\n"
          ]
        },
        {
          "output_type": "execute_result",
          "data": {
            "text/plain": [
              "<matplotlib.image.AxesImage at 0x7f2050116fd0>"
            ]
          },
          "metadata": {},
          "execution_count": 9
        },
        {
          "output_type": "display_data",
          "data": {
            "text/plain": [
              "<Figure size 640x480 with 1 Axes>"
            ],
            "image/png": "[encoded data removed]"
          },
          "metadata": {}
        }
      ],
      "source": [
        "i = random.randint(0,nr_ex-1)\n",
        "print(lbls[i])\n",
        "\n",
        "\n",
        "plt.imshow( mask_int[i,0,:,:] , cmap = 'gray')   \n",
        "\n",
        "\n",
        "# with torch.no_grad():\n",
        "#   pred_vals=model(torch.unsqueeze(mask_int[i,:,:,:],0).to(dev))\n",
        "\n",
        "# _, inds = torch.max(pred_vals,dim=1)\n",
        "# e = torch.distributions.Categorical(probs =pred_vals).entropy()\n",
        "\n",
        "# print(pred_vals)\n",
        "# print(inds)"
      ]
    },
    {
      "cell_type": "code",
      "execution_count": null,
      "metadata": {
        "colab": {
          "base_uri": "https://localhost:8080/"
        },
        "id": "wcCDXNi1bg90",
        "outputId": "3ed0be12-17c8-43fe-a906-a76b5bccffdf"
      },
      "outputs": [
        {
          "output_type": "stream",
          "name": "stdout",
          "text": [
            "torch.Size([60000, 1, 28, 28])\n",
            "691\n",
            "44720\n",
            "19136\n",
            "34998\n",
            "51277\n",
            "24897\n",
            "42852\n",
            "50034\n",
            "38310\n",
            "41290\n",
            "54000 samples used as train set\n",
            "6000  samples used as val set\n"
          ]
        }
      ],
      "source": [
        "# add a dimension to tensor to become B*C*H*W\n",
        "if len(x_train.shape)==3:\n",
        "  x_train=x_train.unsqueeze(1)\n",
        "print(x_train.shape)\n",
        "\n",
        "# List of indexes on the training set\n",
        "train_idx = list(range(num_train))\n",
        "\n",
        "# List of indexes of the test set\n",
        "test_idx = list(range(num_test))\n",
        "\n",
        "# Shuffle the training set\n",
        "\n",
        "\n",
        "random.shuffle(train_idx)\n",
        "for i in range(10):\n",
        "  print(train_idx[i])\n",
        "\n",
        "\n",
        "# Fraction of the original train set that we want to use as validation set\n",
        "val_frac = 0.1\n",
        "# Number of samples of the validation set\n",
        "num_val = int(num_train * val_frac) \n",
        "num_train = num_train - num_val\n",
        "\n",
        "# Split training set\n",
        "val_idx = train_idx[num_train:]\n",
        "train_idx = train_idx[:num_train]\n",
        "\n",
        "print(f\"{num_train} samples used as train set\")\n",
        "print(f\"{num_val}  samples used as val set\")\n",
        "\n",
        "\n",
        "# Compose transformations\n",
        "data_transform = transforms.Compose([\n",
        "  transforms.Resize(32),\n",
        "  transforms.ToTensor(),\n",
        "  #transforms.Lambda(torch.bernoulli), #aggiunta da me\n",
        "])\n",
        "\n",
        "test_transform = transforms.Compose([\n",
        "  transforms.Resize(32),\n",
        "  transforms.ToTensor(),\n",
        "  #transforms.Lambda(torch.bernoulli),\n",
        "])\n",
        "# Load MNIST dataset with transforms\n",
        "train_set = torchvision.datasets.MNIST(root=root_dir, train=True, download=True, transform=data_transform)\n",
        "test_set = torchvision.datasets.MNIST(root=root_dir, train=False, download=True, transform=test_transform)\n",
        "\n",
        "#FATTA DA ME 08 07 22\n",
        "imgs = torch.zeros(54000,1,32,32)\n",
        "lbls = torch.zeros(54000)\n",
        "c=0\n",
        "for i in train_idx:\n",
        "  image, label = train_set[i]\n",
        "  imgs[c,:,:,:]= image\n",
        "  lbls[c] = label\n",
        "  c = c+1\n",
        "\n",
        "ds = torch.cat((imgs, mask_int), 0)\n",
        "\n",
        "Nan_lbls = torch.ones(nr_ex)*10\n",
        "ds_lbls = torch.cat((lbls, Nan_lbls), 0)\n",
        "\n",
        "\n",
        "# image, label = train_set[1]\n",
        "# plt.imshow(image.squeeze(), cmap='gray')\n",
        "# print('Label:', label)\n",
        "\n",
        "\n",
        "# Split train_dataset into training and validation\n",
        "from torch.utils.data import Subset\n",
        "\n",
        "val_set = Subset(train_set, val_idx)\n",
        "train_set = Subset(train_set, train_idx)\n",
        "\n",
        "# Define loaders\n",
        "from torch.utils.data import DataLoader\n",
        "train_loader = DataLoader(train_set, batch_size=64, num_workers=2, shuffle=True, drop_last=True)\n",
        "val_loader   = DataLoader(val_set,   batch_size=64, num_workers=2, shuffle=False, drop_last=False)\n",
        "test_loader  = DataLoader(test_set,  batch_size=64, num_workers=2, shuffle=False, drop_last=False)\n",
        "\n",
        "#fatta da me 08 07. train set con i fake data\n",
        "_dataset = torch.utils.data.TensorDataset(ds,ds_lbls) # create your datset\n",
        "train_loader = torch.utils.data.DataLoader(_dataset,batch_size=64, num_workers=2, shuffle=True, drop_last = True) # create your dataloader"
      ]
    },
    {
      "cell_type": "code",
      "execution_count": null,
      "metadata": {
        "id": "jvbILdHidK6b"
      },
      "outputs": [],
      "source": [
        "class VGGBlock(nn.Module):\n",
        "    def __init__(self, in_channels, out_channels,batch_norm=False):\n",
        "\n",
        "        super().__init__()\n",
        "\n",
        "        conv2_params = {'kernel_size': (3, 3),\n",
        "                        'stride'     : (1, 1),\n",
        "                        'padding'   : 1\n",
        "                        }\n",
        "\n",
        "        noop = lambda x : x\n",
        "\n",
        "        self._batch_norm = batch_norm\n",
        "\n",
        "        self.conv1 = nn.Conv2d(in_channels=in_channels,out_channels=out_channels , **conv2_params)\n",
        "        self.bn1 = nn.BatchNorm2d(out_channels) if batch_norm else noop\n",
        "        #self.bn1 = nn.GroupNorm(32, out_channels) if batch_norm else noop\n",
        "\n",
        "        self.conv2 = nn.Conv2d(in_channels=out_channels,out_channels=out_channels, **conv2_params)\n",
        "        self.bn2 = nn.BatchNorm2d(out_channels) if batch_norm else noop\n",
        "        #self.bn2 = nn.GroupNorm(32, out_channels) if batch_norm else noop\n",
        "\n",
        "        self.max_pooling = nn.MaxPool2d(kernel_size=(2, 2), stride=(2, 2))\n",
        "\n",
        "    @property\n",
        "    def batch_norm(self):\n",
        "        return self._batch_norm\n",
        "\n",
        "    def forward(self,x):\n",
        "        x = self.conv1(x)\n",
        "        x = self.bn1(x)\n",
        "        x = F.relu(x)\n",
        "\n",
        "        x = self.conv2(x)\n",
        "        x = self.bn2(x)\n",
        "        x = F.relu(x)\n",
        "\n",
        "        x = self.max_pooling(x)\n",
        "\n",
        "        return x\n",
        "'''\n",
        "#Roba fatta solo per mostrare bene la struttura del modello\n",
        "class VGG16(nn.Module):\n",
        "\n",
        "  def __init__(self, input_size, num_classes=10,batch_norm=False):\n",
        "    super(VGG16, self).__init__()\n",
        "\n",
        "    self.in_channels,self.in_width,self.in_height = input_size\n",
        "\n",
        "    self.block_1 = VGGBlock(self.in_channels,64,batch_norm=batch_norm)\n",
        "    self.block_2 = VGGBlock(64, 128,batch_norm=batch_norm)\n",
        "    self.block_3 = VGGBlock(128, 256,batch_norm=batch_norm)\n",
        "    self.block_4 = VGGBlock(256,512,batch_norm=batch_norm)\n",
        "\n",
        "\n",
        "  @property\n",
        "  def input_size(self):\n",
        "      return self.in_channels,self.in_width,self.in_height\n",
        "\n",
        "  def forward(self, x):\n",
        "\n",
        "    x = self.block_1(x)\n",
        "    x = self.block_2(x)\n",
        "    x = self.block_3(x)\n",
        "    x = self.block_4(x)\n",
        "\n",
        "    return x\n",
        "\n",
        "\n",
        "# Create the model\n",
        "model = VGG16((1,32,32),batch_norm=True)\n",
        "print(model)\n",
        "\n",
        "# Get an element from the dataset\n",
        "test_x, _ = train_set[0] # each element of the dataset is a couple (image, label)\n",
        "\n",
        "# Get the size of a sample\n",
        "test_x.size()\n",
        "\n",
        "test_x = test_x.unsqueeze(dim=0)\n",
        "test_x.size()\n",
        "\n",
        "output=model(test_x)\n",
        "output.shape\n",
        "\n",
        "'''\n",
        "\n",
        "\n",
        "class VGG16(nn.Module):\n",
        "\n",
        "  def __init__(self, input_size, num_classes=11,batch_norm=False):\n",
        "    super(VGG16, self).__init__()\n",
        "\n",
        "    self.in_channels,self.in_width,self.in_height = input_size\n",
        "\n",
        "    self.block_1 = VGGBlock(self.in_channels,64,batch_norm=batch_norm)\n",
        "    self.block_2 = VGGBlock(64, 128,batch_norm=batch_norm)\n",
        "    self.block_3 = VGGBlock(128, 256,batch_norm=batch_norm)\n",
        "    self.block_4 = VGGBlock(256,512,batch_norm=batch_norm)\n",
        "\n",
        "    self.classifier = nn.Sequential(\n",
        "            nn.Linear(2048, 4096),\n",
        "            nn.ReLU(True),\n",
        "            nn.Dropout(p=0.65),\n",
        "            nn.Linear(4096, 4096),\n",
        "            nn.ReLU(True),\n",
        "            nn.Dropout(p=0.65),\n",
        "            nn.Linear(4096, num_classes),\n",
        "            nn.Softmax(dim=1) \n",
        "        )\n",
        "\n",
        "  @property\n",
        "  def input_size(self):\n",
        "      return self.in_channels,self.in_width,self.in_height\n",
        "\n",
        "  def forward(self, x):\n",
        "\n",
        "    x = self.block_1(x)\n",
        "    x = self.block_2(x)\n",
        "    x = self.block_3(x)\n",
        "    x = self.block_4(x)\n",
        "    x = x.view(x.size(0), -1)\n",
        "    x = self.classifier(x)\n",
        "\n",
        "    return x"
      ]
    },
    {
      "cell_type": "code",
      "execution_count": null,
      "metadata": {
        "colab": {
          "base_uri": "https://localhost:8080/"
        },
        "id": "mn52cQERa--Q",
        "outputId": "fc920938-8bcb-43b9-92db-e9aaa82d5547"
      },
      "outputs": [
        {
          "output_type": "stream",
          "name": "stdout",
          "text": [
            "cuda\n"
          ]
        }
      ],
      "source": [
        "# Create the model\n",
        "model = VGG16((1,32,32), batch_norm=True)\n",
        "dev = torch.device('cuda')\n",
        "print(dev)\n",
        "\n",
        "# Define an optimizier\n",
        "import torch.optim as optim\n",
        "optimizer = optim.SGD(model.parameters(), lr = 0.01)\n",
        "# Define a loss \n",
        "criterion = nn.CrossEntropyLoss()"
      ]
    },
    {
      "cell_type": "code",
      "execution_count": null,
      "metadata": {
        "id": "g8-SFbXZbep9"
      },
      "outputs": [],
      "source": [
        "def train(net, loaders, optimizer, criterion, epochs=20, dev=dev, save_param = False, model_name=\"VGG16_MNIST\"):\n",
        "    try:\n",
        "        net = net.to(dev)\n",
        "        #print(net)\n",
        "        # Initialize history\n",
        "        history_loss = {\"train\": [], \"val\": [], \"test\": []}\n",
        "        history_accuracy = {\"train\": [], \"val\": [], \"test\": []}\n",
        "        # Store the best val accuracy\n",
        "        best_val_accuracy = 0\n",
        "\n",
        "        # Process each epoch\n",
        "        for epoch in range(epochs):\n",
        "            # Initialize epoch variables\n",
        "            sum_loss = {\"train\": 0, \"val\": 0, \"test\": 0}\n",
        "            sum_accuracy = {\"train\": 0, \"val\": 0, \"test\": 0}\n",
        "            # Process each split\n",
        "            for split in [\"train\", \"val\", \"test\"]:\n",
        "                if split == \"train\":\n",
        "                  net.train()\n",
        "                else:\n",
        "                  net.eval()\n",
        "                # Process each batch\n",
        "                for (input, labels) in loaders[split]:\n",
        "                    # Move to CUDA\n",
        "                    input = input.to(dev)\n",
        "                    labels = labels.to(dev)\n",
        "                    # Reset gradients\n",
        "                    optimizer.zero_grad()\n",
        "                    # Compute output\n",
        "                    pred = net(input)\n",
        "                    #pred = pred.squeeze(dim=1) # Output shape is [Batch size, 1], but we want [Batch size]\n",
        "                    #labels = labels.unsqueeze(1)\n",
        "                    labels = labels.long()\n",
        "                    loss = criterion(pred, labels)\n",
        "                    # Update loss\n",
        "                    sum_loss[split] += loss.item()\n",
        "                    # Check parameter update\n",
        "                    if split == \"train\":\n",
        "                        # Compute gradients\n",
        "                        loss.backward()\n",
        "                        # Optimize\n",
        "                        optimizer.step()\n",
        "                    # Compute accuracy\n",
        "                    #pred_labels = pred.argmax(1) + 1\n",
        "                    #pred_labels = (pred >= 0.5).long() # Binarize predictions to 0 and 1\n",
        "                    _,pred_label = torch.max(pred, dim = 1)\n",
        "                    pred_labels = (pred_label == labels).float()\n",
        "\n",
        "                    batch_accuracy = pred_labels.sum().item()/input.size(0)\n",
        "                    # Update accuracy\n",
        "                    sum_accuracy[split] += batch_accuracy\n",
        "            # Compute epoch loss/accuracy\n",
        "            epoch_loss = {split: sum_loss[split]/len(loaders[split]) for split in [\"train\", \"val\", \"test\"]}\n",
        "            epoch_accuracy = {split: sum_accuracy[split]/len(loaders[split]) for split in [\"train\", \"val\", \"test\"]}\n",
        "\n",
        "            # Store params at the best validation accuracy\n",
        "            if save_param and epoch_accuracy[\"val\"] > best_val_accuracy:\n",
        "              #torch.save(net.state_dict(), f\"{net.__class__.__name__}_best_val.pth\")\n",
        "              from google.colab import drive\n",
        "              drive.mount('/content/gdrive')\n",
        "\n",
        "              save_path = \"/content/gdrive/My Drive/VGG16_MNIST\"\n",
        "\n",
        "              try:\n",
        "                  os.mkdir(save_path)\n",
        "              except:\n",
        "                  print(\"Folder already found\")\n",
        "              filename = save_path + '/'+ f\"{model_name}_best_val.pth\"\n",
        "     \n",
        "              torch.save(net.state_dict(), filename)\n",
        "              best_val_accuracy = epoch_accuracy[\"val\"]\n",
        "\n",
        "            # Update history\n",
        "            for split in [\"train\", \"val\", \"test\"]:\n",
        "                history_loss[split].append(epoch_loss[split])\n",
        "                history_accuracy[split].append(epoch_accuracy[split])\n",
        "            # Print info\n",
        "            print(f\"Epoch {epoch+1}:\",\n",
        "                  f\"TrL={epoch_loss['train']:.4f},\",\n",
        "                  f\"TrA={epoch_accuracy['train']:.4f},\",\n",
        "                  f\"VL={epoch_loss['val']:.4f},\",\n",
        "                  f\"VA={epoch_accuracy['val']:.4f},\",\n",
        "                  f\"TeL={epoch_loss['test']:.4f},\",\n",
        "                  f\"TeA={epoch_accuracy['test']:.4f},\")\n",
        "    except KeyboardInterrupt:\n",
        "        print(\"Interrupted\")\n",
        "    finally:\n",
        "        # Plot loss\n",
        "        plt.title(\"Loss\")\n",
        "        for split in [\"train\", \"val\", \"test\"]:\n",
        "            plt.plot(history_loss[split], label=split)\n",
        "        plt.legend()\n",
        "        plt.show()\n",
        "        # Plot accuracy\n",
        "        plt.title(\"Accuracy\")\n",
        "        for split in [\"train\", \"val\", \"test\"]:\n",
        "            plt.plot(history_accuracy[split], label=split)\n",
        "        plt.legend()\n",
        "        plt.show()"
      ]
    },
    {
      "cell_type": "code",
      "execution_count": null,
      "metadata": {
        "colab": {
          "base_uri": "https://localhost:8080/",
          "height": 1000
        },
        "id": "1-mvk06NeW3Y",
        "outputId": "068fbf64-6494-4879-a4b7-e87a5afbd06e"
      },
      "outputs": [
        {
          "output_type": "stream",
          "name": "stdout",
          "text": [
            "Mounted at /content/gdrive\n",
            "Folder already found\n",
            "Epoch 1: TrL=1.9552, TrA=0.5474, VL=2.3954, VA=0.1112, TeL=2.3954, TeA=0.1136,\n",
            "Epoch 2: TrL=1.9497, TrA=0.5763, VL=2.3875, VA=0.1112, TeL=2.3873, TeA=0.1136,\n",
            "Drive already mounted at /content/gdrive; to attempt to forcibly remount, call drive.mount(\"/content/gdrive\", force_remount=True).\n",
            "Folder already found\n",
            "Epoch 3: TrL=1.9004, TrA=0.6343, VL=1.9297, VA=0.6535, TeL=1.9329, TeA=0.6479,\n",
            "Drive already mounted at /content/gdrive; to attempt to forcibly remount, call drive.mount(\"/content/gdrive\", force_remount=True).\n",
            "Folder already found\n",
            "Epoch 4: TrL=1.6589, TrA=0.8953, VL=1.6670, VA=0.8789, TeL=1.6668, TeA=0.8792,\n",
            "Drive already mounted at /content/gdrive; to attempt to forcibly remount, call drive.mount(\"/content/gdrive\", force_remount=True).\n",
            "Folder already found\n",
            "Epoch 5: TrL=1.6051, TrA=0.9409, VL=1.6548, VA=0.8897, TeL=1.6543, TeA=0.8897,\n",
            "Drive already mounted at /content/gdrive; to attempt to forcibly remount, call drive.mount(\"/content/gdrive\", force_remount=True).\n",
            "Folder already found\n",
            "Epoch 6: TrL=1.5985, TrA=0.9457, VL=1.6510, VA=0.8941, TeL=1.6544, TeA=0.8895,\n",
            "Drive already mounted at /content/gdrive; to attempt to forcibly remount, call drive.mount(\"/content/gdrive\", force_remount=True).\n",
            "Folder already found\n",
            "Epoch 7: TrL=1.5944, TrA=0.9493, VL=1.5748, VA=0.9762, TeL=1.5735, TeA=0.9791,\n",
            "Drive already mounted at /content/gdrive; to attempt to forcibly remount, call drive.mount(\"/content/gdrive\", force_remount=True).\n",
            "Folder already found\n",
            "Epoch 8: TrL=1.5565, TrA=0.9900, VL=1.5591, VA=0.9843, TeL=1.5585, TeA=0.9868,\n",
            "Drive already mounted at /content/gdrive; to attempt to forcibly remount, call drive.mount(\"/content/gdrive\", force_remount=True).\n",
            "Folder already found\n",
            "Epoch 9: TrL=1.5527, TrA=0.9920, VL=1.5567, VA=0.9888, TeL=1.5566, TeA=0.9877,\n",
            "Drive already mounted at /content/gdrive; to attempt to forcibly remount, call drive.mount(\"/content/gdrive\", force_remount=True).\n",
            "Folder already found\n",
            "Epoch 10: TrL=1.5508, TrA=0.9935, VL=1.5551, VA=0.9891, TeL=1.5556, TeA=0.9887,\n",
            "Epoch 11: TrL=1.5498, TrA=0.9944, VL=1.5561, VA=0.9886, TeL=1.5556, TeA=0.9890,\n",
            "Drive already mounted at /content/gdrive; to attempt to forcibly remount, call drive.mount(\"/content/gdrive\", force_remount=True).\n",
            "Folder already found\n",
            "Epoch 12: TrL=1.5491, TrA=0.9950, VL=1.5529, VA=0.9918, TeL=1.5526, TeA=0.9908,\n",
            "Epoch 13: TrL=1.5484, TrA=0.9954, VL=1.5544, VA=0.9890, TeL=1.5543, TeA=0.9901,\n",
            "Epoch 14: TrL=1.5479, TrA=0.9959, VL=1.5536, VA=0.9905, TeL=1.5530, TeA=0.9904,\n",
            "Epoch 15: TrL=1.5473, TrA=0.9965, VL=1.5522, VA=0.9918, TeL=1.5523, TeA=0.9910,\n",
            "Epoch 16: TrL=1.5471, TrA=0.9966, VL=1.5527, VA=0.9910, TeL=1.5527, TeA=0.9915,\n",
            "Epoch 17: TrL=1.5465, TrA=0.9972, VL=1.5525, VA=0.9916, TeL=1.5521, TeA=0.9917,\n",
            "Epoch 18: TrL=1.5464, TrA=0.9972, VL=1.5523, VA=0.9912, TeL=1.5533, TeA=0.9899,\n",
            "Epoch 19: TrL=1.5461, TrA=0.9975, VL=1.5528, VA=0.9903, TeL=1.5521, TeA=0.9915,\n",
            "Drive already mounted at /content/gdrive; to attempt to forcibly remount, call drive.mount(\"/content/gdrive\", force_remount=True).\n",
            "Folder already found\n",
            "Epoch 20: TrL=1.5459, TrA=0.9978, VL=1.5511, VA=0.9926, TeL=1.5516, TeA=0.9920,\n"
          ]
        },
        {
          "output_type": "display_data",
          "data": {
            "text/plain": [
              "<Figure size 640x480 with 1 Axes>"
            ],
            "image/png": "[encoded data removed]"
          },
          "metadata": {}
        },
        {
          "output_type": "display_data",
          "data": {
            "text/plain": [
              "<Figure size 640x480 with 1 Axes>"
            ],
            "image/png": "[encoded data removed]"
          },
          "metadata": {}
        }
      ],
      "source": [
        "# Define dictionary of loaders\n",
        "loaders = {\"train\": train_loader,\n",
        "           \"val\": val_loader,\n",
        "           \"test\": test_loader}\n",
        "           \n",
        "           \n",
        "# Train model\n",
        "train(model, loaders, optimizer, criterion, epochs=20, dev=dev, save_param = True)"
      ]
    },
    {
      "cell_type": "code",
      "source": [
        "E = torch.zeros(10000)\n",
        "c=0\n",
        "for (input, labels) in test_loader:\n",
        "  input = input.to(dev)\n",
        "  labels = labels.to(dev)\n",
        "  with torch.no_grad():\n",
        "      pred_vals=model(input)\n",
        "  e = torch.distributions.Categorical(probs =pred_vals).entropy()\n",
        "  E[c:c+len(labels)] = e\n",
        "  c+=len(labels)\n",
        "\n",
        "  \n",
        "  \n",
        "\n"
      ],
      "metadata": {
        "id": "xWQ_CiteSdui"
      },
      "execution_count": null,
      "outputs": []
    },
    {
      "cell_type": "code",
      "source": [
        "save_path = \"/content/gdrive/My Drive/VGG16_MNIST\"\n",
        "\n",
        "filename = save_path + '/entropiesTestSet.pt'\n",
        "torch.save(E, filename)\n",
        "\n",
        "     "
      ],
      "metadata": {
        "id": "V3MOcsOcXZd1"
      },
      "execution_count": null,
      "outputs": []
    },
    {
      "cell_type": "code",
      "source": [
        "g =torch.distributions.Categorical(probs =pred_vals).entropy()"
      ],
      "metadata": {
        "id": "bvVwd3xtULGK"
      },
      "execution_count": null,
      "outputs": []
    },
    {
      "cell_type": "code",
      "source": [
        "# Crea un istogramma della distribuzione dei valori\n",
        "plt.hist(E.numpy(), bins=100)\n",
        "plt.title('Distribuzione dei valori in E')\n",
        "plt.xlabel('Valore')\n",
        "plt.ylabel('Frequenza')\n",
        "plt.show()"
      ],
      "metadata": {
        "colab": {
          "base_uri": "https://localhost:8080/",
          "height": 472
        },
        "id": "jvulqR-zVN5B",
        "outputId": "e9a2cf67-4849-4593-9310-6beb1048b598"
      },
      "execution_count": null,
      "outputs": [
        {
          "output_type": "display_data",
          "data": {
            "text/plain": [
              "<Figure size 640x480 with 1 Axes>"
            ],
            "image/png": "[encoded data removed]"
          },
          "metadata": {}
        }
      ]
    },
    {
      "cell_type": "code",
      "source": [
        "print(torch.mean(E)+2*torch.std(E))"
      ],
      "metadata": {
        "colab": {
          "base_uri": "https://localhost:8080/"
        },
        "id": "TMohkplTWyO4",
        "outputId": "f008c88c-75c3-4c45-8041-3c0b1ea83342"
      },
      "execution_count": null,
      "outputs": [
        {
          "output_type": "stream",
          "name": "stdout",
          "text": [
            "tensor(0.1301)\n"
          ]
        }
      ]
    },
    {
      "cell_type": "code",
      "execution_count": null,
      "metadata": {
        "colab": {
          "base_uri": "https://localhost:8080/",
          "height": 482
        },
        "id": "cbDeDK2KcZ7i",
        "outputId": "0b341ee0-eef3-4d0a-f908-e07b04bd27ca"
      },
      "outputs": [
        {
          "output_type": "stream",
          "name": "stdout",
          "text": [
            "tensor([[6.0290e-09, 9.3900e-07, 4.9771e-09, 7.9820e-12, 3.6200e-09, 3.9501e-07,\n",
            "         1.0800e-09, 2.5935e-08, 1.0628e-13, 4.2422e-11, 1.0000e+00]],\n",
            "       device='cuda:0') tensor([10], device='cuda:0') tensor([2.0951e-05], device='cuda:0')\n"
          ]
        },
        {
          "output_type": "display_data",
          "data": {
            "text/plain": [
              "<Figure size 640x480 with 1 Axes>"
            ],
            "image/png": "[encoded data removed]"
          },
          "metadata": {}
        }
      ],
      "source": [
        "#test che funzia 08 07 22\n",
        "image = torch.zeros(1,32,32)\n",
        "\n",
        "\n",
        "#image, label = train_set[22]\n",
        "\n",
        "plt.imshow( image[0] , cmap = 'gray')\n",
        "\n",
        "with torch.no_grad():\n",
        "  pred_vals=model(torch.unsqueeze(image,0).to(dev))\n",
        "\n",
        "_, inds = torch.max(pred_vals,dim=1)\n",
        "e = torch.distributions.Categorical(probs =pred_vals).entropy()\n",
        "print(pred_vals,inds,e)"
      ]
    }
  ],
  "metadata": {
    "colab": {
      "provenance": []
    },
    "kernelspec": {
      "display_name": "Python 3",
      "name": "python3"
    },
    "language_info": {
      "name": "python"
    },
    "gpuClass": "standard",
    "accelerator": "GPU"
  },
  "nbformat": 4,
  "nbformat_minor": 0
}